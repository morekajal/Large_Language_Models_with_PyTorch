{
  "nbformat": 4,
  "nbformat_minor": 0,
  "metadata": {
    "colab": {
      "provenance": [],
      "gpuType": "T4",
      "mount_file_id": "1rP77Q1wWdj7foGyzuaMM6TXhO3SU21l4",
      "authorship_tag": "ABX9TyPq2hSms6DLais9dN+sBmTV",
      "include_colab_link": true
    },
    "kernelspec": {
      "name": "python3",
      "display_name": "Python 3"
    },
    "language_info": {
      "name": "python"
    },
    "accelerator": "GPU"
  },
  "cells": [
    {
      "cell_type": "markdown",
      "metadata": {
        "id": "view-in-github",
        "colab_type": "text"
      },
      "source": [
        "<a href=\"https://colab.research.google.com/github/morekajal/Large_Language_Models_with_PyTorch/blob/main/07_getbatch_logits_lossreporting_train_evalmode.ipynb\" target=\"_parent\"><img src=\"https://colab.research.google.com/assets/colab-badge.svg\" alt=\"Open In Colab\"/></a>"
      ]
    },
    {
      "cell_type": "code",
      "execution_count": null,
      "metadata": {
        "colab": {
          "base_uri": "https://localhost:8080/"
        },
        "id": "rFilXDdsr-qw",
        "outputId": "32917ae4-7192-403f-c64a-846de59f9e70"
      },
      "outputs": [
        {
          "output_type": "stream",
          "name": "stdout",
          "text": [
            "cuda\n"
          ]
        }
      ],
      "source": [
        "import torch\n",
        "device = 'cuda' if torch.cuda.is_available() else 'cpu'\n",
        "print(device)\n",
        "\n",
        "block_size = 8\n",
        "batch_size = 4"
      ]
    },
    {
      "cell_type": "code",
      "source": [
        "with open('/content/drive/MyDrive/MyLLMWork/data/wizard_of_oz.txt', 'r', encoding='utf-8') as f:\n",
        "  text = f.read()\n",
        "\n",
        "chars = sorted(set(text))\n",
        "print(chars)\n",
        "vocab_size = len(chars)\n",
        "print(vocab_size)"
      ],
      "metadata": {
        "colab": {
          "base_uri": "https://localhost:8080/"
        },
        "id": "OdRg1dbltAyn",
        "outputId": "3b18536e-b492-41cb-8cc0-1fe3916ac61d"
      },
      "execution_count": null,
      "outputs": [
        {
          "output_type": "stream",
          "name": "stdout",
          "text": [
            "['\\n', ' ', '!', '\"', '&', \"'\", '(', ')', '*', ',', '-', '.', '0', '1', '2', '3', '4', '5', '6', '7', '8', '9', ':', ';', '?', 'A', 'B', 'C', 'D', 'E', 'F', 'G', 'H', 'I', 'J', 'K', 'L', 'M', 'N', 'O', 'P', 'Q', 'R', 'S', 'T', 'U', 'V', 'W', 'X', 'Y', 'Z', '[', ']', '_', 'a', 'b', 'c', 'd', 'e', 'f', 'g', 'h', 'i', 'j', 'k', 'l', 'm', 'n', 'o', 'p', 'q', 'r', 's', 't', 'u', 'v', 'w', 'x', 'y', 'z', '\\ufeff']\n",
            "81\n"
          ]
        }
      ]
    },
    {
      "cell_type": "code",
      "source": [
        "string_to_int = {ch:i for i, ch in enumerate(chars) }\n",
        "int_to_string = {i:ch for i, ch in enumerate(chars) }\n",
        "encode = lambda s: [string_to_int[c] for c in s]\n",
        "decode = lambda l: ''.join([int_to_string[i] for i in l])\n",
        "\n",
        "data = torch.tensor(encode(text), dtype=torch.long)\n",
        "print(data[:100])"
      ],
      "metadata": {
        "colab": {
          "base_uri": "https://localhost:8080/"
        },
        "id": "SWyCBq9QttAJ",
        "outputId": "06591ecc-ebd0-45f7-ce7b-ebf837da0e5a"
      },
      "execution_count": null,
      "outputs": [
        {
          "output_type": "stream",
          "name": "stdout",
          "text": [
            "tensor([80,  1,  1, 28, 39, 42, 39, 44, 32, 49,  1, 25, 38, 28,  1, 44, 32, 29,\n",
            "         1, 47, 33, 50, 25, 42, 28,  1, 33, 38,  1, 39, 50,  0,  0,  1,  1, 26,\n",
            "        49,  0,  0,  1,  1, 36, 11,  1, 30, 42, 25, 38, 35,  1, 26, 25, 45, 37,\n",
            "         0,  0,  1,  1, 25, 45, 44, 32, 39, 42,  1, 39, 30,  1, 44, 32, 29,  1,\n",
            "        47, 33, 50, 25, 42, 28,  1, 39, 30,  1, 39, 50,  9,  1, 44, 32, 29,  1,\n",
            "        36, 25, 38, 28,  1, 39, 30,  1, 39, 50])\n"
          ]
        }
      ]
    },
    {
      "cell_type": "code",
      "source": [
        "n = int(0.8 * len(data))\n",
        "train_data = data[:n]\n",
        "val_data = data[n:]\n",
        "\n",
        "def get_batch(split):\n",
        "  data = train_data if split == 'train' else val_data\n",
        "  ix = torch.randint(len(data) - block_size, (batch_size,))\n",
        "  # print(ix)\n",
        "  x = torch.stack([data[i:i+block_size] for i in ix])\n",
        "  y = torch.stack([data[i+1:i+block_size+1] for i in ix])\n",
        "\n",
        "  # convert to device()\n",
        "  x, y = x.to(device), y.to(device)\n",
        "  return x, y\n",
        "\n",
        "x, y = get_batch('train')\n",
        "print('inputs:')\n",
        "print('x shape : ', x.shape)\n",
        "print(x)\n",
        "print('targets :')\n",
        "print(y)"
      ],
      "metadata": {
        "colab": {
          "base_uri": "https://localhost:8080/"
        },
        "id": "bUaRDnL8uoKp",
        "outputId": "df575188-4ad8-4304-aace-05802c635c99"
      },
      "execution_count": null,
      "outputs": [
        {
          "output_type": "stream",
          "name": "stdout",
          "text": [
            "inputs:\n",
            "x shape :  torch.Size([4, 8])\n",
            "tensor([[59, 54, 65, 68, 58, 72,  9,  3],\n",
            "        [73, 68,  1, 71, 74, 65, 58,  1],\n",
            "        [65,  1, 76, 61, 68,  1, 76, 58],\n",
            "        [54, 73,  1, 55, 58, 54, 72, 73]], device='cuda:0')\n",
            "targets :\n",
            "tensor([[54, 65, 68, 58, 72,  9,  3,  1],\n",
            "        [68,  1, 71, 74, 65, 58,  1, 74],\n",
            "        [ 1, 76, 61, 68,  1, 76, 58, 71],\n",
            "        [73,  1, 55, 58, 54, 72, 73, 65]], device='cuda:0')\n"
          ]
        }
      ]
    },
    {
      "cell_type": "code",
      "source": [
        "x = train_data[:block_size]\n",
        "y = train_data[1:block_size + 1]\n",
        "\n",
        "for t in range(block_size):\n",
        "  context = x[:t+1]\n",
        "  target = y[t]\n",
        "  print('when input is ', context, 'target is ', target)"
      ],
      "metadata": {
        "colab": {
          "base_uri": "https://localhost:8080/"
        },
        "id": "EwA57Wlq6yXK",
        "outputId": "25a6704d-e80d-41e0-c497-1a079b24811c"
      },
      "execution_count": null,
      "outputs": [
        {
          "output_type": "stream",
          "name": "stdout",
          "text": [
            "when input is  tensor([80]) target is  tensor(1)\n",
            "when input is  tensor([80,  1]) target is  tensor(1)\n",
            "when input is  tensor([80,  1,  1]) target is  tensor(28)\n",
            "when input is  tensor([80,  1,  1, 28]) target is  tensor(39)\n",
            "when input is  tensor([80,  1,  1, 28, 39]) target is  tensor(42)\n",
            "when input is  tensor([80,  1,  1, 28, 39, 42]) target is  tensor(39)\n",
            "when input is  tensor([80,  1,  1, 28, 39, 42, 39]) target is  tensor(44)\n",
            "when input is  tensor([80,  1,  1, 28, 39, 42, 39, 44]) target is  tensor(32)\n"
          ]
        }
      ]
    },
    {
      "cell_type": "markdown",
      "source": [
        "#### Lets try to build a Neural Net"
      ],
      "metadata": {
        "id": "W9nzA4t1_66l"
      }
    },
    {
      "cell_type": "code",
      "source": [
        "import torch.nn as nn\n",
        "from torch.nn import functional as F"
      ],
      "metadata": {
        "id": "O9_HX_pg-UXk"
      },
      "execution_count": null,
      "outputs": []
    },
    {
      "cell_type": "code",
      "source": [
        "a = torch.rand(2, 3, 5)\n",
        "x , y , z = a.shape\n",
        "print('x y z : ', x, y, z)\n",
        "a = a.view(x, y, z)\n",
        "print(a)\n",
        "print(a.shape)"
      ],
      "metadata": {
        "colab": {
          "base_uri": "https://localhost:8080/"
        },
        "id": "62G3Tlo3K0PI",
        "outputId": "e102108e-9323-40d6-873f-73da3224aa6f"
      },
      "execution_count": null,
      "outputs": [
        {
          "output_type": "stream",
          "name": "stdout",
          "text": [
            "x y z :  2 3 5\n",
            "tensor([[[0.0674, 0.8292, 0.6876, 0.3155, 0.2426],\n",
            "         [0.4059, 0.7895, 0.7963, 0.5220, 0.4099],\n",
            "         [0.6250, 0.6126, 0.2821, 0.1820, 0.2131]],\n",
            "\n",
            "        [[0.7275, 0.1701, 0.0723, 0.4019, 0.9646],\n",
            "         [0.1296, 0.3204, 0.1198, 0.9052, 0.9703],\n",
            "         [0.0551, 0.6277, 0.0733, 0.5821, 0.3524]]])\n",
            "torch.Size([2, 3, 5])\n"
          ]
        }
      ]
    },
    {
      "cell_type": "markdown",
      "source": [],
      "metadata": {
        "id": "rfgBzWvTKz4k"
      }
    },
    {
      "cell_type": "code",
      "source": [
        "import torch\n",
        "import torch.nn as nn\n",
        "import torch.nn.functional as F\n",
        "\n",
        "class BigramLanguageModel(nn.Module):\n",
        "  def __init__(self, vocab_size):\n",
        "    super().__init__()\n",
        "    self.token_embedding_table = nn.Embedding(vocab_size, vocab_size)\n",
        "\n",
        "  def forward(self, index, targets=None):  # Make 'targets' optional with a default value of None\n",
        "    logits = self.token_embedding_table(index)\n",
        "\n",
        "    if targets is None:\n",
        "      loss = None\n",
        "    else:\n",
        "      B, T, C = logits.shape\n",
        "      logits = logits.view(B * T, C)\n",
        "      targets = targets.view(B * T)         # why we need to change the shape??\n",
        "      # what does pytorch expect ->\n",
        "      loss = F.cross_entropy(logits, targets)   #as target=None given inside forward, else part does not execute here\n",
        "\n",
        "    return logits, loss\n",
        "\n",
        "  def generate(self, index, max_new_tokens):\n",
        "    #index is (B, T) array of indices in current context\n",
        "    for _ in range(max_new_tokens):\n",
        "      # get the predictions\n",
        "      logits, loss = self.forward(index)\n",
        "      # focus only on the last time step\n",
        "      logits = logits[:, -1, :]             #(B, C)\n",
        "      # apply softmax to get probabilitie\n",
        "      probs = F.softmax(logits, dim=-1)     #(B, C)\n",
        "      #sample from the distribution\n",
        "      index_next = torch.multinomial(probs, num_samples=1)\n",
        "      # append sampled index to the running sequence\n",
        "      index = torch.cat((index, index_next), dim=1)\n",
        "    return index\n",
        "\n",
        "model = BigramLanguageModel(vocab_size)\n",
        "m = model.to(device)\n",
        "\n",
        "#torch.long -> int64 -> 64bytes\n",
        "context = torch.zeros((1,1), dtype=torch.long, device=device)\n",
        "generated_chars = decode(m.generate(context, max_new_tokens=500)[0].tolist())\n",
        "print(generated_chars)"
      ],
      "metadata": {
        "colab": {
          "base_uri": "https://localhost:8080/"
        },
        "id": "18CJP6jRYDNR",
        "outputId": "1d839176-3a2a-43bf-cb28-2814419ab797"
      },
      "execution_count": null,
      "outputs": [
        {
          "output_type": "stream",
          "name": "stdout",
          "text": [
            "\n",
            "D]!10a5KPSVP66AA:EPY\n",
            "b]uXtDIjEecwqMvR]*;*eg.1P]\"Lp﻿k\n",
            "B 4﻿zRLEcaKfdF8Zyj1D*X3)H.an﻿Ycn]gx*g-oo&gd\n",
            "p10x[!Sk;\"M8 y73 yXr(S;TSVq.FOE9cKfeDj27\"m:-\n",
            "fEH_Clw?iW:X(H_ZwL!WxArA*]u\"viwc*0bUp\n",
            "xbhXUXKHhN!Prr*0x[G3:w&m9108n!U,Ry&akxGNMfEtJ([uR4lKlrcC3n8C31cMh﻿3&a?wu83W *gG\n",
            "woDIy7.v]HSbPY0clB.XCyp_oj?z5N5Kqzlf,4DHA5C:l8;MRkh9Ad_Hh1F:\"J5﻿vH)j6IjowMbCQrb\"Xr]kf\n",
            "g-0,&ICayR2h;C\n",
            "g-\n",
            "pneEPAkNhhiaV*(LnH5Sx[D;T&]Uz[4w\n",
            "FG\n",
            "WE﻿gexUtw]ss\n",
            "kdS[vo('mkV0'q9(u﻿MlA,RYmyrx5M\n",
            "zZ3 6(7y'Nzdrv8f!q26JUX!E(z)TaeQcis_Sk\"hT-byu!)0iDA2qtpB\n"
          ]
        }
      ]
    },
    {
      "cell_type": "markdown",
      "source": [
        "Create Pytorch optimizer"
      ],
      "metadata": {
        "id": "fLprHQtsWXYs"
      }
    },
    {
      "cell_type": "code",
      "source": [
        "max_iters = 10000\n",
        "#eval_interval = 2500\n",
        "learning_rate = 3e-4"
      ],
      "metadata": {
        "id": "b3RbFayNXITR"
      },
      "execution_count": null,
      "outputs": []
    },
    {
      "cell_type": "code",
      "source": [
        "# optimizer = torch.optim.AdamW(model.parameters(), lr=learning_rate)\n",
        "\n",
        "# for iter in range(max_iters):\n",
        "#   #sample a batch of data\n",
        "#   xb, yb = get_batch('train')\n",
        "\n",
        "#   #evaluate the loss\n",
        "#   logits, loss = model.forward(xb, yb)\n",
        "#   optimizer.zero_grad(set_to_none=True)    #gradient set to none -> occupies smaller space\n",
        "#   loss.backward()\n",
        "#   optimizer.step()\n",
        "# print(loss.item())"
      ],
      "metadata": {
        "id": "pJwnccgIcdcq"
      },
      "execution_count": null,
      "outputs": []
    },
    {
      "cell_type": "code",
      "source": [
        "# context = torch.zeros((1,1), dtype=torch.long, device=device)\n",
        "# generated_chars = decode(m.generate(context, max_new_tokens=500)[0].tolist())\n",
        "# print(generated_chars)"
      ],
      "metadata": {
        "id": "pmeZ5_CCXRPT"
      },
      "execution_count": null,
      "outputs": []
    },
    {
      "cell_type": "markdown",
      "source": [
        "Still we get garbage text/token for bigram model"
      ],
      "metadata": {
        "id": "4eFBBZcnY8Qm"
      }
    },
    {
      "cell_type": "markdown",
      "source": [
        "need to familiarize - just what the optimizer does for us and some of the differences/similarities between them*\n",
        "\n",
        "1. Mean Squared Error (MSE): MSE is a common loss function used in regression problems, where the goal is to predict a continuous output. It measures the average squared difference between the predicted and actual values, and is often used to train neural networks for regression tasks.\n",
        "2. Gradient Descent (GD): is an optimization algorithm used to minimize the loss function of a machine learning model. The loss function measures how well the model is able to predict the target variable based on the input features. The idea of GD is to iteratively adjust the model parameters in the direction of the steepest descent of the loss function\n",
        "3. Momentum: Momentum is an extension of SGD that adds a \"momentum\" term to the parameter updates. This term helps smooth out the updates and allows the optimizer to continue moving in the right direction, even if the gradient changes direction or varies in magnitude. Momentum is particularly useful for training deep neural networks.\n",
        "4. RMSprop: RMSprop is an optimization algorithm that uses a moving average of the squared gradient to adapt the learning rate of each parameter. This helps to avoid oscillations in the parameter updates and can improve convergence in some cases.\n",
        "5. Adam: Adam is a popular optimization algorithm that combines the ideas of momentum and RMSprop. It uses a moving average of both the gradient and its squared value to adapt the learning rate of each parameter. Adam is often used as a default optimizer for deep learning models.\n",
        "6. AdamW: AdamW is a modification of the Adam optimizer that adds weight decay to the parameter updates. This helps to regularize the model and can improve generalization performance. We will be using the AdamW optimizer as it best suits the properties of the model we will be training."
      ],
      "metadata": {
        "id": "URaJ3iU7aFfK"
      }
    },
    {
      "cell_type": "markdown",
      "source": [
        "To know, how well our model is generalizing"
      ],
      "metadata": {
        "id": "M5D13_uHbBNt"
      }
    },
    {
      "cell_type": "code",
      "source": [
        "eval_iters = 250\n",
        "dropout = 0.2      #dropout randomly the neural networks"
      ],
      "metadata": {
        "id": "mfzmJF2TY6UF"
      },
      "execution_count": null,
      "outputs": []
    },
    {
      "cell_type": "code",
      "source": [
        "@torch.no_grad()     #to make sure, pytorch doesnt use gradients at all here\n",
        "def estimate_loss():\n",
        "  out = {}\n",
        "  model.eval()\n",
        "  for split in ['train', 'val']:\n",
        "    losses = torch.zeros(eval_iters)\n",
        "    for k in range(eval_iters):\n",
        "      X, Y = get_batch(split)\n",
        "      logits, loss = model(X, Y)\n",
        "      losses[k] = loss.item()\n",
        "    out[split] = losses.mean()\n",
        "  model.train()\n",
        "  return out"
      ],
      "metadata": {
        "id": "RpmyHbxPdDWl"
      },
      "execution_count": null,
      "outputs": []
    },
    {
      "cell_type": "code",
      "source": [
        "optimizer = torch.optim.AdamW(model.parameters(), lr=learning_rate)\n",
        "\n",
        "for iter in range(max_iters):\n",
        "  if iter % eval_iters == 0:       #modulus operator if remainder == 0\n",
        "    losses = estimate_loss()\n",
        "    print(f\"step : {iter}, train loss: {losses['train']:.4f}, val loss: {losses['val']:.4f}\")\n",
        "\n",
        "  xb, yb = get_batch('train')\n",
        "\n",
        "  logits, loss = model.forward(xb, yb)\n",
        "  optimizer.zero_grad(set_to_none=True)\n",
        "  loss.backward()\n",
        "  optimizer.step()\n",
        "print(loss.item())"
      ],
      "metadata": {
        "colab": {
          "base_uri": "https://localhost:8080/"
        },
        "id": "pmIQg9O8bTkL",
        "outputId": "110f7cb9-b84f-4fdf-97f2-724f41fdd9a9"
      },
      "execution_count": null,
      "outputs": [
        {
          "output_type": "stream",
          "name": "stdout",
          "text": [
            "step : 0, train loss: 3.2274, val loss: 3.2371\n",
            "step : 250, train loss: 3.1707, val loss: 3.1987\n",
            "step : 500, train loss: 3.1465, val loss: 3.1940\n",
            "step : 750, train loss: 3.1497, val loss: 3.1632\n",
            "step : 1000, train loss: 3.1129, val loss: 3.1364\n",
            "step : 1250, train loss: 3.0836, val loss: 3.1037\n",
            "step : 1500, train loss: 3.0682, val loss: 3.0873\n",
            "step : 1750, train loss: 3.0512, val loss: 3.0589\n",
            "step : 2000, train loss: 3.0138, val loss: 3.0355\n",
            "step : 2250, train loss: 3.0155, val loss: 3.0474\n",
            "step : 2500, train loss: 2.9770, val loss: 3.0136\n",
            "step : 2750, train loss: 2.9633, val loss: 3.0034\n",
            "step : 3000, train loss: 2.9601, val loss: 2.9558\n",
            "step : 3250, train loss: 2.9523, val loss: 2.9583\n",
            "step : 3500, train loss: 2.9244, val loss: 2.9346\n",
            "step : 3750, train loss: 2.9140, val loss: 2.9384\n",
            "step : 4000, train loss: 2.8887, val loss: 2.9199\n",
            "step : 4250, train loss: 2.8561, val loss: 2.8993\n",
            "step : 4500, train loss: 2.8414, val loss: 2.9013\n",
            "step : 4750, train loss: 2.8542, val loss: 2.8567\n",
            "step : 5000, train loss: 2.8286, val loss: 2.8852\n",
            "step : 5250, train loss: 2.8200, val loss: 2.8770\n",
            "step : 5500, train loss: 2.8431, val loss: 2.8391\n",
            "step : 5750, train loss: 2.7965, val loss: 2.8240\n",
            "step : 6000, train loss: 2.7709, val loss: 2.8131\n",
            "step : 6250, train loss: 2.7843, val loss: 2.7953\n",
            "step : 6500, train loss: 2.7524, val loss: 2.7810\n",
            "step : 6750, train loss: 2.7604, val loss: 2.7827\n",
            "step : 7000, train loss: 2.7405, val loss: 2.7817\n",
            "step : 7250, train loss: 2.7413, val loss: 2.7384\n",
            "step : 7500, train loss: 2.7400, val loss: 2.7635\n",
            "step : 7750, train loss: 2.7247, val loss: 2.7691\n",
            "step : 8000, train loss: 2.7281, val loss: 2.7263\n",
            "step : 8250, train loss: 2.6938, val loss: 2.7284\n",
            "step : 8500, train loss: 2.6952, val loss: 2.7095\n",
            "step : 8750, train loss: 2.6804, val loss: 2.7095\n",
            "step : 9000, train loss: 2.6882, val loss: 2.7154\n",
            "step : 9250, train loss: 2.6508, val loss: 2.7039\n",
            "step : 9500, train loss: 2.6768, val loss: 2.6861\n",
            "step : 9750, train loss: 2.6415, val loss: 2.6900\n",
            "2.857861280441284\n"
          ]
        }
      ]
    },
    {
      "cell_type": "code",
      "source": [],
      "metadata": {
        "id": "bmphZJ9ghFlj"
      },
      "execution_count": null,
      "outputs": []
    }
  ]
}