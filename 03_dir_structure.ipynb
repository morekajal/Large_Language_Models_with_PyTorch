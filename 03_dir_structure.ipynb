{
  "nbformat": 4,
  "nbformat_minor": 0,
  "metadata": {
    "colab": {
      "provenance": [],
      "authorship_tag": "ABX9TyPOMavJlQyFmWDdStg9u9Bc",
      "include_colab_link": true
    },
    "kernelspec": {
      "name": "python3",
      "display_name": "Python 3"
    },
    "language_info": {
      "name": "python"
    }
  },
  "cells": [
    {
      "cell_type": "markdown",
      "metadata": {
        "id": "view-in-github",
        "colab_type": "text"
      },
      "source": [
        "<a href=\"https://colab.research.google.com/github/morekajal/Large_Language_Models_with_PyTorch/blob/main/03_dir_structure.ipynb\" target=\"_parent\"><img src=\"https://colab.research.google.com/assets/colab-badge.svg\" alt=\"Open In Colab\"/></a>"
      ]
    },
    {
      "cell_type": "code",
      "execution_count": null,
      "metadata": {
        "id": "TsUduRe1o6tg"
      },
      "outputs": [],
      "source": [
        "from google.colab import drive\n",
        "import os"
      ]
    },
    {
      "cell_type": "code",
      "source": [
        "drive.mount('/content/drive')"
      ],
      "metadata": {
        "colab": {
          "base_uri": "https://localhost:8080/"
        },
        "id": "Xv8F5tFCqLY5",
        "outputId": "f5dfa718-b24f-4551-e9ae-b10859c1d131"
      },
      "execution_count": null,
      "outputs": [
        {
          "output_type": "stream",
          "name": "stdout",
          "text": [
            "Mounted at /content/drive\n"
          ]
        }
      ]
    },
    {
      "cell_type": "code",
      "source": [
        "main_directory = '/content/drive/My Drive/'"
      ],
      "metadata": {
        "id": "-_HqzI_rqNbU"
      },
      "execution_count": null,
      "outputs": []
    },
    {
      "cell_type": "code",
      "source": [
        "new_directory = 'MyLLMWork'"
      ],
      "metadata": {
        "id": "g6DWt4A-qWId"
      },
      "execution_count": null,
      "outputs": []
    },
    {
      "cell_type": "code",
      "source": [
        "subdirectories = ['data', 'notebooks', 'details']"
      ],
      "metadata": {
        "id": "TSEeW7ZLqazR"
      },
      "execution_count": null,
      "outputs": []
    },
    {
      "cell_type": "code",
      "source": [
        "new_directory_path = os.path.join(main_directory, new_directory)"
      ],
      "metadata": {
        "id": "bO-ws870qiEJ"
      },
      "execution_count": null,
      "outputs": []
    },
    {
      "cell_type": "code",
      "source": [
        "# Check if the directory already exists; if not, create it\n",
        "if not os.path.exists(new_directory_path):\n",
        "    os.mkdir(new_directory_path)\n",
        "    print(f\"Created directory: {new_directory_path}\")"
      ],
      "metadata": {
        "colab": {
          "base_uri": "https://localhost:8080/"
        },
        "id": "kRFruzPlqkum",
        "outputId": "7b1ea20c-b2d6-43b9-a087-0a7949ffd15e"
      },
      "execution_count": null,
      "outputs": [
        {
          "output_type": "stream",
          "name": "stdout",
          "text": [
            "Created directory: /content/drive/My Drive/MyLLMWork\n"
          ]
        }
      ]
    },
    {
      "cell_type": "code",
      "source": [
        "# Create subdirectories within the new directory\n",
        "for subdir in subdirectories:\n",
        "    subdir_path = os.path.join(new_directory_path, subdir)\n",
        "    if not os.path.exists(subdir_path):\n",
        "        os.mkdir(subdir_path)\n",
        "        print(f\"Created subdirectory: {subdir_path}\")\n"
      ],
      "metadata": {
        "colab": {
          "base_uri": "https://localhost:8080/"
        },
        "id": "ipJN-CPUqpA8",
        "outputId": "89d021f0-4043-4ad8-bad7-f08998e88244"
      },
      "execution_count": null,
      "outputs": [
        {
          "output_type": "stream",
          "name": "stdout",
          "text": [
            "Created subdirectory: /content/drive/My Drive/MyLLMWork/data\n",
            "Created subdirectory: /content/drive/My Drive/MyLLMWork/notebooks\n",
            "Created subdirectory: /content/drive/My Drive/MyLLMWork/details\n"
          ]
        }
      ]
    },
    {
      "cell_type": "code",
      "source": [
        "# Print the paths of the created directories and subdirectories\n",
        "print(\"Directory structure created:\")\n",
        "print(f\"Main Directory: {new_directory_path}\")\n",
        "for subdir in subdirectories:\n",
        "    subdir_path = os.path.join(new_directory_path, subdir)\n",
        "    print(f\"{subdir}: {subdir_path}\")"
      ],
      "metadata": {
        "colab": {
          "base_uri": "https://localhost:8080/"
        },
        "id": "6bkhbQfWqvEf",
        "outputId": "bb311c33-ba42-4362-c435-5511db633f12"
      },
      "execution_count": null,
      "outputs": [
        {
          "output_type": "stream",
          "name": "stdout",
          "text": [
            "Directory structure created:\n",
            "Main Directory: /content/drive/My Drive/MyLLMWork\n",
            "data: /content/drive/My Drive/MyLLMWork/data\n",
            "notebooks: /content/drive/My Drive/MyLLMWork/notebooks\n",
            "details: /content/drive/My Drive/MyLLMWork/details\n"
          ]
        }
      ]
    },
    {
      "cell_type": "code",
      "source": [],
      "metadata": {
        "id": "fQEjkzCsqyqr"
      },
      "execution_count": null,
      "outputs": []
    }
  ]
}