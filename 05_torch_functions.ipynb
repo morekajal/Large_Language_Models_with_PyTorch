{
  "nbformat": 4,
  "nbformat_minor": 0,
  "metadata": {
    "colab": {
      "provenance": [],
      "gpuType": "T4",
      "authorship_tag": "ABX9TyMOH5flAdnLEnC46g72KsGW",
      "include_colab_link": true
    },
    "kernelspec": {
      "name": "python3",
      "display_name": "Python 3"
    },
    "language_info": {
      "name": "python"
    },
    "accelerator": "GPU"
  },
  "cells": [
    {
      "cell_type": "markdown",
      "metadata": {
        "id": "view-in-github",
        "colab_type": "text"
      },
      "source": [
        "<a href=\"https://colab.research.google.com/github/morekajal/Large_Language_Models_with_PyTorch/blob/main/05_torch_functions.ipynb\" target=\"_parent\"><img src=\"https://colab.research.google.com/assets/colab-badge.svg\" alt=\"Open In Colab\"/></a>"
      ]
    },
    {
      "cell_type": "code",
      "execution_count": null,
      "metadata": {
        "colab": {
          "base_uri": "https://localhost:8080/"
        },
        "id": "v-_cd9_EyMAh",
        "outputId": "8b25b347-d218-494f-cebf-04364d7b39e8"
      },
      "outputs": [
        {
          "output_type": "stream",
          "name": "stdout",
          "text": [
            "cuda\n"
          ]
        }
      ],
      "source": [
        "import torch\n",
        "import numpy as np\n",
        "import time\n",
        "device = 'cuda' if torch.cuda.is_available() else 'cpu'\n",
        "print(device)"
      ]
    },
    {
      "cell_type": "markdown",
      "source": [
        "%%time to record time taken by the cell"
      ],
      "metadata": {
        "id": "E497Nf_Z0mr6"
      }
    },
    {
      "cell_type": "code",
      "source": [
        "%%time\n",
        "start_time = time.time()\n",
        "\n",
        "#matrix operations\n",
        "zeros = torch.zeros(1,1)\n",
        "end_time = time.time()\n",
        "\n",
        "elapsed_time = end_time - start_time\n",
        "print(f\"{elapsed_time:.4f}\")"
      ],
      "metadata": {
        "colab": {
          "base_uri": "https://localhost:8080/"
        },
        "id": "KfXF0gUrzZyU",
        "outputId": "fdbe8d81-2b9f-4fbc-e7ef-b8fb7f2ed524"
      },
      "execution_count": null,
      "outputs": [
        {
          "output_type": "stream",
          "name": "stdout",
          "text": [
            "0.0282\n",
            "CPU times: user 665 µs, sys: 135 µs, total: 800 µs\n",
            "Wall time: 28.4 ms\n"
          ]
        }
      ]
    },
    {
      "cell_type": "code",
      "source": [
        "torch_rand1 = torch.rand(100, 100, 100, 100).to(device)\n",
        "torch_rand2 = torch.rand(100, 100, 100, 100).to(device)\n",
        "\n",
        "np_rand1 = torch.rand(100, 100, 100, 100)\n",
        "np_rand2 = torch.rand(100, 100, 100, 100)\n",
        "\n",
        "start_time = time.time()\n",
        "\n",
        "rand = (torch_rand1 @ torch_rand2)\n",
        "\n",
        "end_time = time.time()\n",
        "\n",
        "elapsed_time = end_time - start_time\n",
        "print(f\"torch {elapsed_time : .4f}\")\n",
        "\n",
        "start_time = time.time()\n",
        "\n",
        "rand = np.multiply(np_rand1, np_rand2)\n",
        "end_time = time.time()\n",
        "elapsed_time = end_time-start_time\n",
        "print(f\"numpy {elapsed_time : .4f}\")\n",
        "\n"
      ],
      "metadata": {
        "colab": {
          "base_uri": "https://localhost:8080/"
        },
        "id": "nBVW0nnO0IEp",
        "outputId": "95e391a9-642e-4cea-d3d1-0a9e483a4bef"
      },
      "execution_count": null,
      "outputs": [
        {
          "output_type": "stream",
          "name": "stdout",
          "text": [
            "torch  2.7472\n",
            "numpy  0.1573\n"
          ]
        }
      ]
    },
    {
      "cell_type": "markdown",
      "source": [
        "#### Lets take look at some torch functions"
      ],
      "metadata": {
        "id": "1KLik2LN96oE"
      }
    },
    {
      "cell_type": "code",
      "source": [
        "probabilities = torch.tensor([0.1, 0.9])\n",
        "samples = torch.multinomial(probabilities, num_samples=10, replacement=True)\n",
        "print(samples)"
      ],
      "metadata": {
        "colab": {
          "base_uri": "https://localhost:8080/"
        },
        "id": "R3hOoPzC0gi_",
        "outputId": "ecb649d6-80c6-48f9-b15a-30f05574abd7"
      },
      "execution_count": null,
      "outputs": [
        {
          "output_type": "stream",
          "name": "stdout",
          "text": [
            "tensor([0, 1, 1, 1, 1, 1, 1, 1, 1, 1])\n"
          ]
        }
      ]
    },
    {
      "cell_type": "code",
      "source": [
        "#concatenate\n",
        "tensor = torch.tensor([1,2,3,4])\n",
        "out = torch.cat((tensor, torch.tensor([5])), dim=0)\n",
        "out"
      ],
      "metadata": {
        "colab": {
          "base_uri": "https://localhost:8080/"
        },
        "id": "55EDMuEr-Zlu",
        "outputId": "80b58e71-a513-4f01-e14e-88fa7552383b"
      },
      "execution_count": null,
      "outputs": [
        {
          "output_type": "execute_result",
          "data": {
            "text/plain": [
              "tensor([1, 2, 3, 4, 5])"
            ]
          },
          "metadata": {},
          "execution_count": 5
        }
      ]
    },
    {
      "cell_type": "code",
      "source": [
        "#triangular lower\n",
        "out = torch.tril(torch.ones(5, 5))\n",
        "out"
      ],
      "metadata": {
        "colab": {
          "base_uri": "https://localhost:8080/"
        },
        "id": "9dW7H1XT-oJr",
        "outputId": "ba330234-e050-43e1-f25a-7c7d3df20354"
      },
      "execution_count": null,
      "outputs": [
        {
          "output_type": "execute_result",
          "data": {
            "text/plain": [
              "tensor([[1., 0., 0., 0., 0.],\n",
              "        [1., 1., 0., 0., 0.],\n",
              "        [1., 1., 1., 0., 0.],\n",
              "        [1., 1., 1., 1., 0.],\n",
              "        [1., 1., 1., 1., 1.]])"
            ]
          },
          "metadata": {},
          "execution_count": 6
        }
      ]
    },
    {
      "cell_type": "code",
      "source": [
        "#triangular upper\n",
        "out = torch.triu(torch.ones(5, 5))\n",
        "out"
      ],
      "metadata": {
        "colab": {
          "base_uri": "https://localhost:8080/"
        },
        "id": "I4hXdYlE-wDi",
        "outputId": "41e65797-0448-4c3d-8c6e-945f294c30f6"
      },
      "execution_count": null,
      "outputs": [
        {
          "output_type": "execute_result",
          "data": {
            "text/plain": [
              "tensor([[1., 1., 1., 1., 1.],\n",
              "        [0., 1., 1., 1., 1.],\n",
              "        [0., 0., 1., 1., 1.],\n",
              "        [0., 0., 0., 1., 1.],\n",
              "        [0., 0., 0., 0., 1.]])"
            ]
          },
          "metadata": {},
          "execution_count": 7
        }
      ]
    },
    {
      "cell_type": "code",
      "source": [
        "#masked_fill\n",
        "# we exponentiate 0 to become 1, or 1 to 0\n",
        "out = torch.zeros(5, 5).masked_fill(torch.tril(torch.ones(5, 5)) == 0, float('-inf'))\n",
        "out"
      ],
      "metadata": {
        "colab": {
          "base_uri": "https://localhost:8080/"
        },
        "id": "42WFB5zX-2th",
        "outputId": "2ebb6969-9809-40c6-fff5-e3940eb84e09"
      },
      "execution_count": null,
      "outputs": [
        {
          "output_type": "execute_result",
          "data": {
            "text/plain": [
              "tensor([[0., -inf, -inf, -inf, -inf],\n",
              "        [0., 0., -inf, -inf, -inf],\n",
              "        [0., 0., 0., -inf, -inf],\n",
              "        [0., 0., 0., 0., -inf],\n",
              "        [0., 0., 0., 0., 0.]])"
            ]
          },
          "metadata": {},
          "execution_count": 8
        }
      ]
    },
    {
      "cell_type": "code",
      "source": [
        "torch.exp(out)"
      ],
      "metadata": {
        "colab": {
          "base_uri": "https://localhost:8080/"
        },
        "id": "mJYyECqZADjI",
        "outputId": "a601c007-e609-4b17-e642-6341e48d23e6"
      },
      "execution_count": null,
      "outputs": [
        {
          "output_type": "execute_result",
          "data": {
            "text/plain": [
              "tensor([[1., 0., 0., 0., 0.],\n",
              "        [1., 1., 0., 0., 0.],\n",
              "        [1., 1., 1., 0., 0.],\n",
              "        [1., 1., 1., 1., 0.],\n",
              "        [1., 1., 1., 1., 1.]])"
            ]
          },
          "metadata": {},
          "execution_count": 9
        }
      ]
    },
    {
      "cell_type": "code",
      "source": [
        "# transpose -> flip or swap he dimensions\n",
        "input = torch.zeros(2, 3 ,4)\n",
        "out = input.transpose(0, 2)\n",
        "out.shape"
      ],
      "metadata": {
        "colab": {
          "base_uri": "https://localhost:8080/"
        },
        "id": "WsapGE9WAlXE",
        "outputId": "f97f675c-375a-4604-81a4-fabc5755d4d8"
      },
      "execution_count": null,
      "outputs": [
        {
          "output_type": "execute_result",
          "data": {
            "text/plain": [
              "torch.Size([4, 3, 2])"
            ]
          },
          "metadata": {},
          "execution_count": 10
        }
      ]
    },
    {
      "cell_type": "code",
      "source": [
        "tensor1 = torch.tensor([1, 2, 3])\n",
        "tensor2 = torch.tensor([4, 5, 6])\n",
        "tensor3 = torch.tensor([7, 8, 9])\n",
        "\n",
        "stacked_tensor = torch.stack([tensor1, tensor2, tensor3])\n",
        "stacked_tensor"
      ],
      "metadata": {
        "colab": {
          "base_uri": "https://localhost:8080/"
        },
        "id": "917GGv1PBAju",
        "outputId": "a93c1380-2354-471c-cb9d-5e0c041d4ba0"
      },
      "execution_count": null,
      "outputs": [
        {
          "output_type": "execute_result",
          "data": {
            "text/plain": [
              "tensor([[1, 2, 3],\n",
              "        [4, 5, 6],\n",
              "        [7, 8, 9]])"
            ]
          },
          "metadata": {},
          "execution_count": 11
        }
      ]
    },
    {
      "cell_type": "markdown",
      "source": [
        "#### The nn Module - Mainly contains learnable parameters"
      ],
      "metadata": {
        "id": "GkmacH9XB14l"
      }
    },
    {
      "cell_type": "code",
      "source": [
        "import torch.nn as nn\n",
        "sample = torch.tensor([10., 10., 10.])\n",
        "linear = nn.Linear(3, 3, bias=False)\n",
        "print(linear(sample))"
      ],
      "metadata": {
        "colab": {
          "base_uri": "https://localhost:8080/"
        },
        "id": "X1Ykmd83CaLm",
        "outputId": "8dcbaa0c-cd0b-4091-916c-f6d742a0a3f3"
      },
      "execution_count": null,
      "outputs": [
        {
          "output_type": "stream",
          "name": "stdout",
          "text": [
            "tensor([ 0.7730, -1.2150, -6.8537], grad_fn=<SqueezeBackward4>)\n"
          ]
        }
      ]
    },
    {
      "cell_type": "code",
      "source": [
        "import torch.nn.functional as F\n",
        "\n",
        "tensor1 = torch.tensor([1.0, 2.0, 3.0])\n",
        "\n",
        "#apply softmax using torch.nn.functional.softmax()\n",
        "softmax_output = F.softmax(tensor1, dim=0)\n",
        "\n",
        "print(softmax_output)"
      ],
      "metadata": {
        "colab": {
          "base_uri": "https://localhost:8080/"
        },
        "id": "vEaF8C0MB1io",
        "outputId": "3dbe27ed-0536-4e0b-8249-2d4e888f42b5"
      },
      "execution_count": null,
      "outputs": [
        {
          "output_type": "stream",
          "name": "stdout",
          "text": [
            "tensor([0.0900, 0.2447, 0.6652])\n"
          ]
        }
      ]
    },
    {
      "cell_type": "code",
      "source": [],
      "metadata": {
        "id": "u3saPkv0BX73"
      },
      "execution_count": null,
      "outputs": []
    }
  ]
}