{
  "cells": [
    {
      "cell_type": "markdown",
      "metadata": {
        "id": "view-in-github",
        "colab_type": "text"
      },
      "source": [
        "<a href=\"https://colab.research.google.com/github/morekajal/Large_Language_Models_with_PyTorch/blob/main/01_bigram.ipynb\" target=\"_parent\"><img src=\"https://colab.research.google.com/assets/colab-badge.svg\" alt=\"Open In Colab\"/></a>"
      ]
    },
    {
      "cell_type": "code",
      "execution_count": null,
      "metadata": {
        "id": "pI36zjBsMUcy"
      },
      "outputs": [],
      "source": [
        "with open('../data/wizard_of_oz.txt', 'r', encoding='utf-8') as f:\n",
        "    text = f.read()"
      ]
    },
    {
      "cell_type": "code",
      "execution_count": null,
      "metadata": {
        "id": "BdotKeT2MUc1",
        "outputId": "f4eadce0-63ed-4850-e8c9-a20e7381ad9d"
      },
      "outputs": [
        {
          "name": "stdout",
          "output_type": "stream",
          "text": [
            "  DOROTHY AND THE WIZARD IN OZ\n",
            "\n",
            "  BY\n",
            "\n",
            "  L. FRANK BAUM\n",
            "\n",
            "  AUTHOR OF THE WIZARD OF OZ, THE LAND OF OZ, OZMA OF OZ, ETC.\n",
            "\n",
            "  ILLUSTRATED BY JOHN R. NEILL\n",
            "\n",
            "  BOOKS OF WONDER WILLIAM MORROW & CO., INC. NEW\n"
          ]
        }
      ],
      "source": [
        "print(text[:200])"
      ]
    },
    {
      "cell_type": "code",
      "execution_count": null,
      "metadata": {
        "id": "3TxGvgrtMUc2",
        "outputId": "282da0bb-924c-436d-e5ff-370ffd4cc512"
      },
      "outputs": [
        {
          "name": "stdout",
          "output_type": "stream",
          "text": [
            "['\\n', ' ', '!', '\"', '&', \"'\", '(', ')', '*', ',', '-', '.', '0', '1', '2', '3', '4', '5', '6', '7', '8', '9', ':', ';', '?', 'A', 'B', 'C', 'D', 'E', 'F', 'G', 'H', 'I', 'J', 'K', 'L', 'M', 'N', 'O', 'P', 'Q', 'R', 'S', 'T', 'U', 'V', 'W', 'X', 'Y', 'Z', '[', ']', '_', 'a', 'b', 'c', 'd', 'e', 'f', 'g', 'h', 'i', 'j', 'k', 'l', 'm', 'n', 'o', 'p', 'q', 'r', 's', 't', 'u', 'v', 'w', 'x', 'y', 'z', '\\ufeff']\n",
            "81\n"
          ]
        }
      ],
      "source": [
        "chars = sorted(set(text))\n",
        "print(chars)\n",
        "print(len(chars))"
      ]
    },
    {
      "cell_type": "markdown",
      "metadata": {
        "id": "af7Hq66sMUc3"
      },
      "source": [
        "#### create some tokenizer"
      ]
    },
    {
      "cell_type": "code",
      "execution_count": null,
      "metadata": {
        "id": "uWfdbyqOMUc4"
      },
      "outputs": [],
      "source": [
        "string_to_int = { ch:i for i, ch in enumerate(chars) }\n",
        "int_to_string = { i:ch for i, ch in enumerate(chars) }\n",
        "encode = lambda s: [string_to_int[c] for c in s]\n",
        "decode = lambda l: ''.join([int_to_string[i] for i in l])"
      ]
    },
    {
      "cell_type": "code",
      "execution_count": null,
      "metadata": {
        "id": "CadvTXbxMUc4",
        "outputId": "59e977b6-d06d-4b62-8bfa-173312929d5c"
      },
      "outputs": [
        {
          "data": {
            "text/plain": [
              "[61, 58, 65, 65, 68]"
            ]
          },
          "execution_count": 7,
          "metadata": {},
          "output_type": "execute_result"
        }
      ],
      "source": [
        "encode('hello')"
      ]
    },
    {
      "cell_type": "code",
      "execution_count": null,
      "metadata": {
        "id": "lBaLekAJMUc5",
        "outputId": "d952a4ab-f76b-446c-e4cd-c910f11776e6"
      },
      "outputs": [
        {
          "name": "stdout",
          "output_type": "stream",
          "text": [
            "hello\n"
          ]
        }
      ],
      "source": [
        "encoded = encode('hello')\n",
        "decoded = decode(encoded)\n",
        "print(decoded)"
      ]
    },
    {
      "cell_type": "code",
      "execution_count": null,
      "metadata": {
        "id": "D13g9eSoMUc5"
      },
      "outputs": [],
      "source": [
        "import torch"
      ]
    },
    {
      "cell_type": "code",
      "execution_count": null,
      "metadata": {
        "id": "7I6I2B5-MUc5",
        "outputId": "42b20e3f-754f-43c5-9386-4e2ce3b97588"
      },
      "outputs": [
        {
          "name": "stdout",
          "output_type": "stream",
          "text": [
            "tensor([80,  1,  1, 28, 39, 42, 39, 44, 32, 49,  1, 25, 38, 28,  1, 44, 32, 29,\n",
            "         1, 47, 33, 50, 25, 42, 28,  1, 33, 38,  1, 39, 50,  0,  0,  1,  1, 26,\n",
            "        49,  0,  0,  1,  1, 36, 11,  1, 30, 42, 25, 38, 35,  1, 26, 25, 45, 37,\n",
            "         0,  0,  1,  1, 25, 45, 44, 32, 39, 42,  1, 39, 30,  1, 44, 32, 29,  1,\n",
            "        47, 33, 50, 25, 42, 28,  1, 39, 30,  1, 39, 50,  9,  1, 44, 32, 29,  1,\n",
            "        36, 25, 38, 28,  1, 39, 30,  1, 39, 50])\n"
          ]
        }
      ],
      "source": [
        "data = torch.tensor(encode(text), dtype=torch.long)\n",
        "print(data[:100])"
      ]
    },
    {
      "cell_type": "markdown",
      "metadata": {
        "id": "WBWg7qVhMUc6"
      },
      "source": [
        "#### Validation and Training Split"
      ]
    },
    {
      "cell_type": "code",
      "execution_count": null,
      "metadata": {
        "id": "juMgDRuAMUc6"
      },
      "outputs": [],
      "source": [
        "n = int(0.8 * len(data))\n",
        "train_data = data[:n]\n",
        "val_data = data[n:]"
      ]
    },
    {
      "cell_type": "code",
      "execution_count": null,
      "metadata": {
        "id": "2no_HL7mMUc6",
        "outputId": "f4eeeff0-e6c6-4fc6-924c-d8d164112e06"
      },
      "outputs": [
        {
          "name": "stdout",
          "output_type": "stream",
          "text": [
            "When input is  tensor([80]) target is  tensor(1)\n",
            "When input is  tensor([80,  1]) target is  tensor(1)\n",
            "When input is  tensor([80,  1,  1]) target is  tensor(28)\n",
            "When input is  tensor([80,  1,  1, 28]) target is  tensor(39)\n",
            "When input is  tensor([80,  1,  1, 28, 39]) target is  tensor(42)\n",
            "When input is  tensor([80,  1,  1, 28, 39, 42]) target is  tensor(39)\n",
            "When input is  tensor([80,  1,  1, 28, 39, 42, 39]) target is  tensor(44)\n",
            "When input is  tensor([80,  1,  1, 28, 39, 42, 39, 44]) target is  tensor(32)\n"
          ]
        }
      ],
      "source": [
        "block_size = 8\n",
        "\n",
        "x = train_data[:block_size]\n",
        "y = train_data[1:block_size+1]\n",
        "\n",
        "for t in range(block_size):\n",
        "    context = x[:t+1]\n",
        "    target = y[t]\n",
        "    print('When input is ', context, 'target is ', target)"
      ]
    },
    {
      "cell_type": "markdown",
      "metadata": {
        "id": "FVfD0kD5MUc7"
      },
      "source": [
        "#### This is Sequential, like how CPU does the operations, Not scalable yet for really good predictions\n",
        "- In compare with CPU, GPU does the tasks very very quickly but parallel, so can push stack of tasks on GPU to scale our training process."
      ]
    },
    {
      "cell_type": "markdown",
      "metadata": {
        "id": "rgSGdvLIMUc7"
      },
      "source": [
        "##### block_size = length of each sequence\n",
        "##### batch_size = how many such sequences are stacked for the same time\n"
      ]
    },
    {
      "cell_type": "code",
      "execution_count": null,
      "metadata": {
        "id": "TdE37FOqMUc7",
        "outputId": "21919dda-9f73-4634-de8c-63f403b627f7"
      },
      "outputs": [
        {
          "name": "stdout",
          "output_type": "stream",
          "text": [
            "cpu\n"
          ]
        }
      ],
      "source": [
        "device = 'cuda' if torch.cuda.is_available() else 'cpu'\n",
        "print(device)"
      ]
    },
    {
      "cell_type": "code",
      "execution_count": null,
      "metadata": {
        "id": "RB3pCBkvMUc7"
      },
      "outputs": [],
      "source": [
        "block_size = 8\n",
        "batch_size = 4"
      ]
    }
  ],
  "metadata": {
    "kernelspec": {
      "display_name": "llm_env",
      "language": "python",
      "name": "python3"
    },
    "language_info": {
      "codemirror_mode": {
        "name": "ipython",
        "version": 3
      },
      "file_extension": ".py",
      "mimetype": "text/x-python",
      "name": "python",
      "nbconvert_exporter": "python",
      "pygments_lexer": "ipython3",
      "version": "3.9.0"
    },
    "colab": {
      "provenance": [],
      "include_colab_link": true
    }
  },
  "nbformat": 4,
  "nbformat_minor": 0
}